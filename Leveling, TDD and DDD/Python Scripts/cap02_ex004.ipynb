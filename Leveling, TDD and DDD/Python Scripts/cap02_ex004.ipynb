{
 "cells": [
  {
   "cell_type": "code",
   "execution_count": 4,
   "id": "c29c1518",
   "metadata": {},
   "outputs": [
    {
     "name": "stdout",
     "output_type": "stream",
     "text": [
      "\n",
      "Poeminho do Contra\n",
      "\n",
      "Todos esses que aí estão\n",
      "Atravancando meu caminho,\n",
      "Eles passarão...\n",
      "Eu passarinho!   \n",
      "\n"
     ]
    }
   ],
   "source": [
    "poema = \"\"\"\n",
    "Poeminho do Contra\n",
    "\n",
    "Todos esses que aí estão\n",
    "Atravancando meu caminho,\n",
    "Eles passarão...\n",
    "Eu passarinho!   \n",
    "\"\"\"\n",
    "\n",
    "print(poema)"
   ]
  },
  {
   "cell_type": "code",
   "execution_count": null,
   "id": "c5d69c7f",
   "metadata": {},
   "outputs": [],
   "source": []
  }
 ],
 "metadata": {
  "kernelspec": {
   "display_name": "Python 3 (ipykernel)",
   "language": "python",
   "name": "python3"
  },
  "language_info": {
   "codemirror_mode": {
    "name": "ipython",
    "version": 3
   },
   "file_extension": ".py",
   "mimetype": "text/x-python",
   "name": "python",
   "nbconvert_exporter": "python",
   "pygments_lexer": "ipython3",
   "version": "3.9.12"
  }
 },
 "nbformat": 4,
 "nbformat_minor": 5
}
