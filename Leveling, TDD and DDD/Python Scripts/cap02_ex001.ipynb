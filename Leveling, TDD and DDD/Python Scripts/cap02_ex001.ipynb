{
 "cells": [
  {
   "cell_type": "code",
   "execution_count": 2,
   "id": "b32a6191",
   "metadata": {},
   "outputs": [
    {
     "name": "stdout",
     "output_type": "stream",
     "text": [
      "71\n",
      "1170\n",
      "1.7307692307692308\n",
      "1\n"
     ]
    }
   ],
   "source": [
    "n1 = 45\n",
    "n2 = 26\n",
    "print(n1 + n2)\n",
    "print(n1 * n2)\n",
    "print(n1 / n2)\n",
    "print(int(n1 / n2))"
   ]
  },
  {
   "cell_type": "code",
   "execution_count": null,
   "id": "7b6cd125",
   "metadata": {},
   "outputs": [],
   "source": []
  }
 ],
 "metadata": {
  "kernelspec": {
   "display_name": "Python 3 (ipykernel)",
   "language": "python",
   "name": "python3"
  },
  "language_info": {
   "codemirror_mode": {
    "name": "ipython",
    "version": 3
   },
   "file_extension": ".py",
   "mimetype": "text/x-python",
   "name": "python",
   "nbconvert_exporter": "python",
   "pygments_lexer": "ipython3",
   "version": "3.9.12"
  }
 },
 "nbformat": 4,
 "nbformat_minor": 5
}
