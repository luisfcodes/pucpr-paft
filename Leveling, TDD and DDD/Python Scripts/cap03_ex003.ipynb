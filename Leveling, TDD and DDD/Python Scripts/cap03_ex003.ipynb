{
 "cells": [
  {
   "cell_type": "code",
   "execution_count": 10,
   "id": "5e6723cc",
   "metadata": {},
   "outputs": [
    {
     "name": "stdout",
     "output_type": "stream",
     "text": [
      "['Paraná', 'Santa Catarina', 'Rio Grande do Sul', 'Espírito Santo', 'Minas Gerais', 'Rio de Janeiro', 'São Paulo'] \n",
      "\n",
      "['Acre', 'Amapá', 'Amazonas', 'Pará', 'Rondônia', 'Roraima', 'Tocantins', 'Espírito Santo', 'Minas Gerais', 'Rio de Janeiro', 'São Paulo'] \n",
      "\n",
      "['Acre', 'Amapá', 'Amazonas', 'Pará', 'Rondônia', 'Roraima', 'Tocantins'] \n",
      "\n",
      "['Acre', 'Amapá', 'Amazonas', 'Pará', 'Rondônia', 'Roraima', 'Tocantins', 'Goiás', 'Mato Grosso', 'Mato Grosso do Sul', 'Distrito Federal']\n"
     ]
    }
   ],
   "source": [
    "estados = [\"Paraná\", \"Santa Catarina\", \"Rio Grande do Sul\", \"Espírito Santo\", \"Minas Gerais\", \"Rio de Janeiro\", \"São Paulo\"]\n",
    "\n",
    "print(estados, \"\\n\")\n",
    "\n",
    "estados[0:3] = [\"Acre\", \"Amapá\", \"Amazonas\", \"Pará\", \"Rondônia\", \"Roraima\", \"Tocantins\"]\n",
    "\n",
    "print(estados, \"\\n\")\n",
    "\n",
    "estados[7:] = []\n",
    "\n",
    "print(estados, \"\\n\")\n",
    "\n",
    "estados.extend([\"Goiás\", \"Mato Grosso\", \"Mato Grosso do Sul\", \"Distrito Federal\"])\n",
    "\n",
    "print(estados)"
   ]
  },
  {
   "cell_type": "code",
   "execution_count": null,
   "id": "63aa172c",
   "metadata": {},
   "outputs": [],
   "source": []
  }
 ],
 "metadata": {
  "kernelspec": {
   "display_name": "Python 3 (ipykernel)",
   "language": "python",
   "name": "python3"
  },
  "language_info": {
   "codemirror_mode": {
    "name": "ipython",
    "version": 3
   },
   "file_extension": ".py",
   "mimetype": "text/x-python",
   "name": "python",
   "nbconvert_exporter": "python",
   "pygments_lexer": "ipython3",
   "version": "3.9.12"
  }
 },
 "nbformat": 4,
 "nbformat_minor": 5
}
