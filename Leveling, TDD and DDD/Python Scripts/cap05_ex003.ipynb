{
 "cells": [
  {
   "cell_type": "code",
   "execution_count": 6,
   "id": "311723cf",
   "metadata": {},
   "outputs": [
    {
     "name": "stdout",
     "output_type": "stream",
     "text": [
      "Digite um número inteiro para iniciar a sequência: 5\n",
      "\n",
      "Digite um número inteiro 125\n",
      "Digite um número inteiro 14\n",
      "Digite um número inteiro 545\n",
      "Digite um número inteiro 4541\n",
      "Digite um número inteiro 5841\n",
      "\n",
      "O número menor foi o 14 e o maior foi o 5841\n"
     ]
    }
   ],
   "source": [
    "x = 1\n",
    "n = int(input(\"Digite um número inteiro para iniciar a sequência: \"))\n",
    "print(\"\")\n",
    "menor = 0\n",
    "maior = 0\n",
    "\n",
    "while x <= n:\n",
    "    nAtual = int(input(\"Digite um número inteiro \"))\n",
    "    if x == 1:\n",
    "        menor = nAtual\n",
    "        maior = nAtual\n",
    "    else:\n",
    "        if nAtual <= menor:\n",
    "            menor = nAtual\n",
    "        elif nAtual >= maior:\n",
    "            maior = nAtual\n",
    "    x = x + 1\n",
    "\n",
    "print(f\"\\nO número menor foi o {menor} e o maior foi o {maior}\")"
   ]
  },
  {
   "cell_type": "code",
   "execution_count": null,
   "id": "af7c4c32",
   "metadata": {},
   "outputs": [],
   "source": []
  }
 ],
 "metadata": {
  "kernelspec": {
   "display_name": "Python 3 (ipykernel)",
   "language": "python",
   "name": "python3"
  },
  "language_info": {
   "codemirror_mode": {
    "name": "ipython",
    "version": 3
   },
   "file_extension": ".py",
   "mimetype": "text/x-python",
   "name": "python",
   "nbconvert_exporter": "python",
   "pygments_lexer": "ipython3",
   "version": "3.9.12"
  }
 },
 "nbformat": 4,
 "nbformat_minor": 5
}
