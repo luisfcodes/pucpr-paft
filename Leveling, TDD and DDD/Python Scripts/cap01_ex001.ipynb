{
 "cells": [
  {
   "cell_type": "code",
   "execution_count": 1,
   "id": "4982014a",
   "metadata": {},
   "outputs": [
    {
     "name": "stdout",
     "output_type": "stream",
     "text": [
      "Poeminho do Contra\n",
      "\n",
      "Todos esses que ai estão\n",
      "Atravancando meu caminho,\n",
      "Eles passarão...\n",
      "Eu Passarinho!\n"
     ]
    }
   ],
   "source": [
    "print (\"Poeminho do Contra\\n\\nTodos esses que ai estão\\nAtravancando meu caminho,\\nEles passarão...\\nEu Passarinho!\")"
   ]
  },
  {
   "cell_type": "code",
   "execution_count": null,
   "id": "50791226",
   "metadata": {},
   "outputs": [],
   "source": []
  }
 ],
 "metadata": {
  "kernelspec": {
   "display_name": "Python 3 (ipykernel)",
   "language": "python",
   "name": "python3"
  },
  "language_info": {
   "codemirror_mode": {
    "name": "ipython",
    "version": 3
   },
   "file_extension": ".py",
   "mimetype": "text/x-python",
   "name": "python",
   "nbconvert_exporter": "python",
   "pygments_lexer": "ipython3",
   "version": "3.9.12"
  }
 },
 "nbformat": 4,
 "nbformat_minor": 5
}
