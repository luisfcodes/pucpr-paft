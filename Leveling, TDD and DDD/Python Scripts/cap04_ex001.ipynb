{
 "cells": [
  {
   "cell_type": "code",
   "execution_count": 4,
   "id": "1f9a32c3",
   "metadata": {},
   "outputs": [
    {
     "name": "stdout",
     "output_type": "stream",
     "text": [
      "Digite um número inteiro 8\n",
      "Digite um número inteiro 60\n",
      "\n",
      "O número maior é o 60 e o menor é o 8\n"
     ]
    }
   ],
   "source": [
    "n1 = int(input(\"Digite um número inteiro \"))\n",
    "n2 = int(input(\"Digite um número inteiro \"))\n",
    "\n",
    "if n1 > n2:\n",
    "    print(f\"\\nO número maior é o {n1} e o menor é o {n2}\")\n",
    "else:\n",
    "    print(f\"\\nO número maior é o {n2} e o menor é o {n1}\")"
   ]
  },
  {
   "cell_type": "code",
   "execution_count": null,
   "id": "f182aab7",
   "metadata": {},
   "outputs": [],
   "source": []
  }
 ],
 "metadata": {
  "kernelspec": {
   "display_name": "Python 3 (ipykernel)",
   "language": "python",
   "name": "python3"
  },
  "language_info": {
   "codemirror_mode": {
    "name": "ipython",
    "version": 3
   },
   "file_extension": ".py",
   "mimetype": "text/x-python",
   "name": "python",
   "nbconvert_exporter": "python",
   "pygments_lexer": "ipython3",
   "version": "3.9.12"
  }
 },
 "nbformat": 4,
 "nbformat_minor": 5
}
