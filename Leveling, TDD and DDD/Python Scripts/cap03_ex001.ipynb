{
 "cells": [
  {
   "cell_type": "code",
   "execution_count": 12,
   "id": "33b870c9",
   "metadata": {},
   "outputs": [
    {
     "name": "stdout",
     "output_type": "stream",
     "text": [
      "Programador\n",
      "Front-End\n",
      "P\n",
      "F\n",
      "Front-End Programador\n"
     ]
    }
   ],
   "source": [
    "frase = \"Programador Front-End\"\n",
    "print(frase[:11])\n",
    "print(frase[12:])\n",
    "print(frase[0])\n",
    "print(frase[-9])\n",
    "\n",
    "fraseInvertida = frase[-9:] + \" \" + frase[:11]\n",
    "print(fraseInvertida)"
   ]
  },
  {
   "cell_type": "code",
   "execution_count": null,
   "id": "6c978ad2",
   "metadata": {},
   "outputs": [],
   "source": []
  }
 ],
 "metadata": {
  "kernelspec": {
   "display_name": "Python 3 (ipykernel)",
   "language": "python",
   "name": "python3"
  },
  "language_info": {
   "codemirror_mode": {
    "name": "ipython",
    "version": 3
   },
   "file_extension": ".py",
   "mimetype": "text/x-python",
   "name": "python",
   "nbconvert_exporter": "python",
   "pygments_lexer": "ipython3",
   "version": "3.9.12"
  }
 },
 "nbformat": 4,
 "nbformat_minor": 5
}
