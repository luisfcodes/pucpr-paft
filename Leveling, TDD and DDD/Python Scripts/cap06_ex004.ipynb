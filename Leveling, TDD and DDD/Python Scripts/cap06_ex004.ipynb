{
 "cells": [
  {
   "cell_type": "code",
   "execution_count": 138,
   "id": "2e51984b",
   "metadata": {},
   "outputs": [],
   "source": [
    "def textFormated(text, n):\n",
    "    if n < 10:\n",
    "        return f\"0{n}{text}\"\n",
    "    else:\n",
    "        return f\"{n}{text}\"\n",
    "\n",
    "def dateFormated(seg):\n",
    "    segundosRestantes = seg\n",
    "    resultado = ''\n",
    "    \n",
    "    if segundosRestantes >= 86400:\n",
    "        dia = int(segundosRestantes / 86400)\n",
    "        segundosRestantes = segundosRestantes % 86400\n",
    "        resultado = textFormated(\"d\", dia)\n",
    "    else:\n",
    "        resultado = textFormated(\"d\", 0)\n",
    "        \n",
    "    if segundosRestantes >= 3600:\n",
    "        hora = int(segundosRestantes / 3600)\n",
    "        segundosRestantes = segundosRestantes % 3600\n",
    "        resultado = f\"{resultado}\" + textFormated(\"h\", hora)\n",
    "    else:\n",
    "        resultado = f\"{resultado}\" + textFormated(\"h\", 0)\n",
    "    \n",
    "    if segundosRestantes >= 60:\n",
    "        minutos = int(segundosRestantes / 60)\n",
    "        segundosRestantes = segundosRestantes % 60\n",
    "        resultado = f\"{resultado}\" + textFormated(\"m\", minutos)\n",
    "    else:\n",
    "        resultado = f\"{resultado}\" + textFormated(\"m\", 0)\n",
    "        \n",
    "    resultado = f\"{resultado}\" + textFormated(\"s\", segundosRestantes)\n",
    "    \n",
    "    \n",
    "        \n",
    "    print(f\"{seg} segundos equivale a {resultado}\")"
   ]
  },
  {
   "cell_type": "code",
   "execution_count": 141,
   "id": "2c1d868e",
   "metadata": {},
   "outputs": [
    {
     "name": "stdout",
     "output_type": "stream",
     "text": [
      "54571 segundos equivale a 00d15h09m31s\n"
     ]
    }
   ],
   "source": [
    "dateFormated(54571)"
   ]
  },
  {
   "cell_type": "code",
   "execution_count": null,
   "id": "550d8271",
   "metadata": {},
   "outputs": [],
   "source": []
  }
 ],
 "metadata": {
  "kernelspec": {
   "display_name": "Python 3 (ipykernel)",
   "language": "python",
   "name": "python3"
  },
  "language_info": {
   "codemirror_mode": {
    "name": "ipython",
    "version": 3
   },
   "file_extension": ".py",
   "mimetype": "text/x-python",
   "name": "python",
   "nbconvert_exporter": "python",
   "pygments_lexer": "ipython3",
   "version": "3.9.12"
  }
 },
 "nbformat": 4,
 "nbformat_minor": 5
}
