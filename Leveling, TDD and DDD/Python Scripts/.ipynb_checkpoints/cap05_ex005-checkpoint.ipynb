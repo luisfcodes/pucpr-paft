{
 "cells": [
  {
   "cell_type": "code",
   "execution_count": 13,
   "id": "3d608fe1",
   "metadata": {},
   "outputs": [
    {
     "name": "stdout",
     "output_type": "stream",
     "text": [
      "Digite um número natural > 0 e <= 100 para iniciar a sequência: 10\n",
      "\n",
      "1  \n",
      "2 2  \n",
      "3 3 3  \n",
      "4 4 4 4  \n",
      "5 5 5 5 5  \n",
      "6 6 6 6 6 6  \n",
      "7 7 7 7 7 7 7  \n",
      "8 8 8 8 8 8 8 8  \n",
      "9 9 9 9 9 9 9 9 9  \n",
      "10 10 10 10 10 10 10 10 10 10  \n"
     ]
    }
   ],
   "source": [
    "x = 1\n",
    "n = int(input(\"Digite um número natural > 0 e <= 100 para iniciar a sequência: \"))\n",
    "print(\"\")\n",
    "\n",
    "if n <= 100 and n > 0:\n",
    "    while x <= n:\n",
    "        for i in range(1, x + 1):\n",
    "            print(x, end=\" \")\n",
    "        print(\" \")\n",
    "        x = x + 1\n",
    "else:\n",
    "    print(\"Entrada inválida.\")"
   ]
  },
  {
   "cell_type": "code",
   "execution_count": null,
   "id": "f958ad96",
   "metadata": {},
   "outputs": [],
   "source": []
  }
 ],
 "metadata": {
  "kernelspec": {
   "display_name": "Python 3 (ipykernel)",
   "language": "python",
   "name": "python3"
  },
  "language_info": {
   "codemirror_mode": {
    "name": "ipython",
    "version": 3
   },
   "file_extension": ".py",
   "mimetype": "text/x-python",
   "name": "python",
   "nbconvert_exporter": "python",
   "pygments_lexer": "ipython3",
   "version": "3.9.12"
  }
 },
 "nbformat": 4,
 "nbformat_minor": 5
}
