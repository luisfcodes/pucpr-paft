{
 "cells": [
  {
   "cell_type": "code",
   "execution_count": 12,
   "id": "8797f9dc",
   "metadata": {},
   "outputs": [
    {
     "name": "stdout",
     "output_type": "stream",
     "text": [
      "Digite um número inteiro: 14\n",
      "\n",
      "O número 14 é par.\n"
     ]
    }
   ],
   "source": [
    "numero = int(input(\"Digite um número inteiro: \"))\n",
    "\n",
    "if numero != 0:\n",
    "    if numero % 2 == 0:\n",
    "        print(f\"\\nO número {numero} é par.\")\n",
    "    else:\n",
    "        print(f\"\\nO número {numero} é impar.\")\n",
    "else:\n",
    "    print(\"\\nNenhum número pode ser dividido por 0\")"
   ]
  },
  {
   "cell_type": "code",
   "execution_count": null,
   "id": "af95feb1",
   "metadata": {},
   "outputs": [],
   "source": []
  }
 ],
 "metadata": {
  "kernelspec": {
   "display_name": "Python 3 (ipykernel)",
   "language": "python",
   "name": "python3"
  },
  "language_info": {
   "codemirror_mode": {
    "name": "ipython",
    "version": 3
   },
   "file_extension": ".py",
   "mimetype": "text/x-python",
   "name": "python",
   "nbconvert_exporter": "python",
   "pygments_lexer": "ipython3",
   "version": "3.9.12"
  }
 },
 "nbformat": 4,
 "nbformat_minor": 5
}
