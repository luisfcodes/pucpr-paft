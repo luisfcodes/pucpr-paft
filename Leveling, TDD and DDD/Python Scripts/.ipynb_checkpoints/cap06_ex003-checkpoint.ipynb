{
 "cells": [
  {
   "cell_type": "code",
   "execution_count": 1,
   "id": "863810cf",
   "metadata": {},
   "outputs": [],
   "source": [
    "def maiorInteiro(n1, n2):\n",
    "    if n1 > n2:\n",
    "        return n1\n",
    "    else:\n",
    "        return n2"
   ]
  },
  {
   "cell_type": "code",
   "execution_count": 4,
   "id": "5d5fe9a3",
   "metadata": {},
   "outputs": [
    {
     "name": "stdout",
     "output_type": "stream",
     "text": [
      "9875\n"
     ]
    }
   ],
   "source": [
    "resultado = maiorInteiro(555, 9875)\n",
    "print(resultado)"
   ]
  },
  {
   "cell_type": "code",
   "execution_count": null,
   "id": "f01e96dc",
   "metadata": {},
   "outputs": [],
   "source": []
  }
 ],
 "metadata": {
  "kernelspec": {
   "display_name": "Python 3 (ipykernel)",
   "language": "python",
   "name": "python3"
  },
  "language_info": {
   "codemirror_mode": {
    "name": "ipython",
    "version": 3
   },
   "file_extension": ".py",
   "mimetype": "text/x-python",
   "name": "python",
   "nbconvert_exporter": "python",
   "pygments_lexer": "ipython3",
   "version": "3.9.12"
  }
 },
 "nbformat": 4,
 "nbformat_minor": 5
}
