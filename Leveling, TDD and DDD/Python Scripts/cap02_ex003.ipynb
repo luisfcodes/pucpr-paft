{
 "cells": [
  {
   "cell_type": "code",
   "execution_count": 3,
   "id": "6509a77b",
   "metadata": {},
   "outputs": [
    {
     "name": "stdout",
     "output_type": "stream",
     "text": [
      "Resultado final da partida\n",
      "\n",
      "Chicago Bulls 110 x 99 Phoenix Suns\n"
     ]
    }
   ],
   "source": [
    "time1 = \"Chicago Bulls\"\n",
    "time2 = \"Phoenix Suns\"\n",
    "\n",
    "placarTime1 = 110\n",
    "placarTime2 = 99\n",
    "\n",
    "print(\"Resultado final da partida\\n\")\n",
    "\n",
    "print(\"{} {} x {} {}\".format(time1, placarTime1, placarTime2, time2))"
   ]
  },
  {
   "cell_type": "code",
   "execution_count": null,
   "id": "8d81a663",
   "metadata": {},
   "outputs": [],
   "source": []
  }
 ],
 "metadata": {
  "kernelspec": {
   "display_name": "Python 3 (ipykernel)",
   "language": "python",
   "name": "python3"
  },
  "language_info": {
   "codemirror_mode": {
    "name": "ipython",
    "version": 3
   },
   "file_extension": ".py",
   "mimetype": "text/x-python",
   "name": "python",
   "nbconvert_exporter": "python",
   "pygments_lexer": "ipython3",
   "version": "3.9.12"
  }
 },
 "nbformat": 4,
 "nbformat_minor": 5
}
