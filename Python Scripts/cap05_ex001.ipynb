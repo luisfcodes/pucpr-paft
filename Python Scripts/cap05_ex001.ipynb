{
 "cells": [
  {
   "cell_type": "code",
   "execution_count": 5,
   "id": "81d0b773",
   "metadata": {},
   "outputs": [
    {
     "name": "stdout",
     "output_type": "stream",
     "text": [
      "Digite um número inteiro: 20\n",
      "O quadrado de 1 é 1 e o cubo é 1\n",
      "O quadrado de 2 é 4 e o cubo é 8\n",
      "O quadrado de 3 é 9 e o cubo é 27\n",
      "O quadrado de 4 é 16 e o cubo é 64\n",
      "O quadrado de 5 é 25 e o cubo é 125\n",
      "O quadrado de 6 é 36 e o cubo é 216\n",
      "O quadrado de 7 é 49 e o cubo é 343\n",
      "O quadrado de 8 é 64 e o cubo é 512\n",
      "O quadrado de 9 é 81 e o cubo é 729\n",
      "O quadrado de 10 é 100 e o cubo é 1000\n",
      "O quadrado de 11 é 121 e o cubo é 1331\n",
      "O quadrado de 12 é 144 e o cubo é 1728\n",
      "O quadrado de 13 é 169 e o cubo é 2197\n",
      "O quadrado de 14 é 196 e o cubo é 2744\n",
      "O quadrado de 15 é 225 e o cubo é 3375\n",
      "O quadrado de 16 é 256 e o cubo é 4096\n",
      "O quadrado de 17 é 289 e o cubo é 4913\n",
      "O quadrado de 18 é 324 e o cubo é 5832\n",
      "O quadrado de 19 é 361 e o cubo é 6859\n",
      "O quadrado de 20 é 400 e o cubo é 8000\n"
     ]
    }
   ],
   "source": [
    "x = 1\n",
    "n = int(input(\"Digite um número inteiro: \"))\n",
    "\n",
    "while x <= n:\n",
    "    print(f\"O quadrado de {x} é {x ** 2} e o cubo é {x ** 3}\")\n",
    "    x = x + 1"
   ]
  },
  {
   "cell_type": "code",
   "execution_count": null,
   "id": "029dc3e8",
   "metadata": {},
   "outputs": [],
   "source": []
  }
 ],
 "metadata": {
  "kernelspec": {
   "display_name": "Python 3 (ipykernel)",
   "language": "python",
   "name": "python3"
  },
  "language_info": {
   "codemirror_mode": {
    "name": "ipython",
    "version": 3
   },
   "file_extension": ".py",
   "mimetype": "text/x-python",
   "name": "python",
   "nbconvert_exporter": "python",
   "pygments_lexer": "ipython3",
   "version": "3.9.12"
  }
 },
 "nbformat": 4,
 "nbformat_minor": 5
}
