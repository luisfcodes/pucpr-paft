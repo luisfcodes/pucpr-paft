{
 "cells": [
  {
   "cell_type": "code",
   "execution_count": 5,
   "id": "aa3cca3a",
   "metadata": {},
   "outputs": [
    {
     "name": "stdout",
     "output_type": "stream",
     "text": [
      "Digite um número inteiro: 87877\n",
      "Digite um número inteiro: 4988784\n",
      "\n",
      " O número 4988784 é o maior que o 87877, a diferença entre eles é de 4900907\n"
     ]
    }
   ],
   "source": [
    "n1 = int(input(\"Digite um número inteiro: \"))\n",
    "n2 = int(input(\"Digite um número inteiro: \"))\n",
    "\n",
    "if n1 > n2:\n",
    "    print(f\"\\n O número {n1} é o maior que o {n2}, a diferença entre eles é de {n1 - n2}\")\n",
    "else:\n",
    "    print(f\"\\n O número {n2} é o maior que o {n1}, a diferença entre eles é de {n2 - n1}\")"
   ]
  },
  {
   "cell_type": "code",
   "execution_count": null,
   "id": "11c2a705",
   "metadata": {},
   "outputs": [],
   "source": []
  }
 ],
 "metadata": {
  "kernelspec": {
   "display_name": "Python 3 (ipykernel)",
   "language": "python",
   "name": "python3"
  },
  "language_info": {
   "codemirror_mode": {
    "name": "ipython",
    "version": 3
   },
   "file_extension": ".py",
   "mimetype": "text/x-python",
   "name": "python",
   "nbconvert_exporter": "python",
   "pygments_lexer": "ipython3",
   "version": "3.9.12"
  }
 },
 "nbformat": 4,
 "nbformat_minor": 5
}
