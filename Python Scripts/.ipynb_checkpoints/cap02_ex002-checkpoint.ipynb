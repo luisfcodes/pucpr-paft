{
 "cells": [
  {
   "cell_type": "code",
   "execution_count": 4,
   "id": "01969bf1",
   "metadata": {},
   "outputs": [
    {
     "name": "stdout",
     "output_type": "stream",
     "text": [
      "Dados do paciente\n",
      "\n",
      "Nome: Alberto Souza\n",
      "Idade: 56\n",
      "Carência: 6\n",
      "Dependentes: 2\n",
      "Mensalidade: R$179.99\n"
     ]
    }
   ],
   "source": [
    "nome = \"Alberto Souza\"\n",
    "idade = 56\n",
    "carencia = 6\n",
    "dependentes = 2\n",
    "mensalidade = 179.99\n",
    "\n",
    "print(\"Dados do paciente\\n\")\n",
    "\n",
    "print(\"Nome: {}\".format(nome))\n",
    "print(\"Idade: {}\".format(idade))\n",
    "print(\"Carência: {}\".format(carencia))\n",
    "print(\"Dependentes: {}\".format(dependentes))\n",
    "print(\"Mensalidade: R${}\".format(mensalidade))"
   ]
  },
  {
   "cell_type": "code",
   "execution_count": null,
   "id": "bc5fd60e",
   "metadata": {},
   "outputs": [],
   "source": []
  }
 ],
 "metadata": {
  "kernelspec": {
   "display_name": "Python 3 (ipykernel)",
   "language": "python",
   "name": "python3"
  },
  "language_info": {
   "codemirror_mode": {
    "name": "ipython",
    "version": 3
   },
   "file_extension": ".py",
   "mimetype": "text/x-python",
   "name": "python",
   "nbconvert_exporter": "python",
   "pygments_lexer": "ipython3",
   "version": "3.9.12"
  }
 },
 "nbformat": 4,
 "nbformat_minor": 5
}
