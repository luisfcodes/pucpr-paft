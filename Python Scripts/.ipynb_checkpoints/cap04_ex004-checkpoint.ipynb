{
 "cells": [
  {
   "cell_type": "code",
   "execution_count": 14,
   "id": "f26c1446",
   "metadata": {},
   "outputs": [
    {
     "name": "stdout",
     "output_type": "stream",
     "text": [
      "Digite sua primeira nota: 1.28\n",
      "Digite sua segunda nota: 4.26\n",
      "\n",
      "Sua média foi de 2.77 e você está REPROVADO!\n"
     ]
    }
   ],
   "source": [
    "nota1 = float(input(\"Digite sua primeira nota: \"))\n",
    "nota2 = float(input(\"Digite sua segunda nota: \"))\n",
    "\n",
    "media = (nota1 + nota2) / 2\n",
    "\n",
    "if media >= 7:\n",
    "    print(f\"\\nSua média foi de {media:,.2f} e você está APROVADO!\")\n",
    "elif media < 4:\n",
    "    print(f\"\\nSua média foi de {media:,.2f} e você está REPROVADO!\")\n",
    "else:\n",
    "    print(f\"\\nSua média foi de {media:,.2f} e você está EM RECUPERAÇÃO!\")"
   ]
  },
  {
   "cell_type": "code",
   "execution_count": null,
   "id": "d1a337e2",
   "metadata": {},
   "outputs": [],
   "source": []
  }
 ],
 "metadata": {
  "kernelspec": {
   "display_name": "Python 3 (ipykernel)",
   "language": "python",
   "name": "python3"
  },
  "language_info": {
   "codemirror_mode": {
    "name": "ipython",
    "version": 3
   },
   "file_extension": ".py",
   "mimetype": "text/x-python",
   "name": "python",
   "nbconvert_exporter": "python",
   "pygments_lexer": "ipython3",
   "version": "3.9.12"
  }
 },
 "nbformat": 4,
 "nbformat_minor": 5
}
