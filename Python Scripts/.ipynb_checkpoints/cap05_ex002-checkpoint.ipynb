{
 "cells": [
  {
   "cell_type": "code",
   "execution_count": 6,
   "id": "9212a5f6",
   "metadata": {},
   "outputs": [
    {
     "name": "stdout",
     "output_type": "stream",
     "text": [
      "Digite um número inteiro: 50\n",
      "50 x 2 =  100\n",
      "50 x 3 =  150\n",
      "50 x 4 =  200\n",
      "50 x 5 =  250\n",
      "50 x 6 =  300\n",
      "50 x 7 =  350\n",
      "50 x 8 =  400\n",
      "50 x 9 =  450\n"
     ]
    }
   ],
   "source": [
    "x = 2\n",
    "n = int(input(\"Digite um número inteiro: \"))\n",
    "\n",
    "while x <= 9:\n",
    "    print(f\"{n} x {x} =  {n * x}\")\n",
    "    x = x + 1"
   ]
  },
  {
   "cell_type": "code",
   "execution_count": null,
   "id": "83b3aed7",
   "metadata": {},
   "outputs": [],
   "source": []
  }
 ],
 "metadata": {
  "kernelspec": {
   "display_name": "Python 3 (ipykernel)",
   "language": "python",
   "name": "python3"
  },
  "language_info": {
   "codemirror_mode": {
    "name": "ipython",
    "version": 3
   },
   "file_extension": ".py",
   "mimetype": "text/x-python",
   "name": "python",
   "nbconvert_exporter": "python",
   "pygments_lexer": "ipython3",
   "version": "3.9.12"
  }
 },
 "nbformat": 4,
 "nbformat_minor": 5
}
