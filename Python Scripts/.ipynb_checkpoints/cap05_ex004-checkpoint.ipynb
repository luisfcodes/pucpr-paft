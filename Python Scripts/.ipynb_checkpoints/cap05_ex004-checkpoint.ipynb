{
 "cells": [
  {
   "cell_type": "code",
   "execution_count": 10,
   "id": "7ee8b76d",
   "metadata": {},
   "outputs": [
    {
     "name": "stdout",
     "output_type": "stream",
     "text": [
      "Digite um número inteiro: 10\n",
      "\n",
      "0 + 1 = 1\n",
      "1 + 2 = 3\n",
      "3 + 3 = 6\n",
      "6 + 4 = 10\n",
      "10 + 5 = 15\n",
      "15 + 6 = 21\n",
      "21 + 7 = 28\n",
      "28 + 8 = 36\n",
      "36 + 9 = 45\n",
      "45 + 10 = 55\n",
      "\n",
      "A soma dos primeiro inteiros até 10 é de 55.\n"
     ]
    }
   ],
   "source": [
    "x = 1\n",
    "n = int(input(\"Digite um número inteiro: \"))\n",
    "print(\"\")\n",
    "\n",
    "total = 0\n",
    "\n",
    "while x <= n:\n",
    "    total = total + x\n",
    "    print(f\"{total - x} + {x} = {total}\")\n",
    "    x = x + 1\n",
    "\n",
    "print(f\"\\nA soma dos primeiro inteiros até {n} é de {total}.\")"
   ]
  },
  {
   "cell_type": "code",
   "execution_count": null,
   "id": "308b4711",
   "metadata": {},
   "outputs": [],
   "source": []
  }
 ],
 "metadata": {
  "kernelspec": {
   "display_name": "Python 3 (ipykernel)",
   "language": "python",
   "name": "python3"
  },
  "language_info": {
   "codemirror_mode": {
    "name": "ipython",
    "version": 3
   },
   "file_extension": ".py",
   "mimetype": "text/x-python",
   "name": "python",
   "nbconvert_exporter": "python",
   "pygments_lexer": "ipython3",
   "version": "3.9.12"
  }
 },
 "nbformat": 4,
 "nbformat_minor": 5
}
