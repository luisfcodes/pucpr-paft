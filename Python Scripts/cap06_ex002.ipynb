{
 "cells": [
  {
   "cell_type": "code",
   "execution_count": 8,
   "id": "4d9a6a4a",
   "metadata": {},
   "outputs": [],
   "source": [
    "def somaInteiros(n):\n",
    "    total = 1\n",
    "    for i in range(1,n + 1):\n",
    "        total = total + i\n",
    "        print(total)"
   ]
  },
  {
   "cell_type": "code",
   "execution_count": 11,
   "id": "ecfff1c2",
   "metadata": {},
   "outputs": [
    {
     "name": "stdout",
     "output_type": "stream",
     "text": [
      "2\n",
      "4\n",
      "7\n",
      "11\n",
      "16\n",
      "22\n",
      "29\n",
      "37\n",
      "46\n",
      "56\n"
     ]
    }
   ],
   "source": [
    "somaInteiros(10)"
   ]
  },
  {
   "cell_type": "code",
   "execution_count": null,
   "id": "4e8c0e88",
   "metadata": {},
   "outputs": [],
   "source": []
  }
 ],
 "metadata": {
  "kernelspec": {
   "display_name": "Python 3 (ipykernel)",
   "language": "python",
   "name": "python3"
  },
  "language_info": {
   "codemirror_mode": {
    "name": "ipython",
    "version": 3
   },
   "file_extension": ".py",
   "mimetype": "text/x-python",
   "name": "python",
   "nbconvert_exporter": "python",
   "pygments_lexer": "ipython3",
   "version": "3.9.12"
  }
 },
 "nbformat": 4,
 "nbformat_minor": 5
}
